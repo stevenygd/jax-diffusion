{
 "cells": [
  {
   "cell_type": "code",
   "execution_count": 2,
   "metadata": {},
   "outputs": [],
   "source": [
    "import os\n",
    "import numpy as np\n",
    "from proc_check import *\n",
    "from matplotlib import pyplot as plt\n",
    "import pandas as pd"
   ]
  },
  {
   "cell_type": "markdown",
   "metadata": {},
   "source": [
    "## cfg sweep - metric w/o inception score"
   ]
  },
  {
   "cell_type": "code",
   "execution_count": 3,
   "metadata": {},
   "outputs": [
    {
     "name": "stdout",
     "output_type": "stream",
     "text": [
      "/mnt/disks/gs2/outputs/checkpoints/rectflow-lognorm/t3lm-mlp-bd-fixed/pixels/ps2-DiT-S-mt3lm-mlp-bd-2024-Aug-24-00-08-40/samples/320000\n"
     ]
    }
   ],
   "source": [
    "expr_name='rectflow-lognorm/t3lm-mlp-bd-fixed/pixels/ps2-DiT-S-mt3lm-mlp-bd-2024-Aug-24-00-08-40'\n",
    "checkpoint = 320000\n",
    "samples_path = get_samples_path(expr_name, checkpoint)\n",
    "print(samples_path)\n",
    "\n",
    "cfg = 1.5\n",
    "seed = 0\n",
    "step = 50\n",
    "nsmp = 10000\n",
    "mode = 'rectflow'\n",
    "folder_suffix = f\"cfg-{cfg}-seed-{seed}-step-{step}-nsmp-{nsmp}-{mode if mode!='ddpm' else ''}\""
   ]
  },
  {
   "cell_type": "code",
   "execution_count": 4,
   "metadata": {},
   "outputs": [
    {
     "name": "stdout",
     "output_type": "stream",
     "text": [
      "No metric for cfg=1.0, but npz exists\n",
      "No metric for cfg=1.25, but npz exists\n",
      "No metric for cfg=1.5, but npz exists\n",
      "No metric for cfg=2.0, but npz exists\n",
      "No metric for cfg=3.0, but npz exists\n",
      "No metric for cfg=4.0, but npz exists\n",
      "No metric for cfg=5.0, but npz exists\n",
      "No metric for cfg=6.0, but npz exists\n",
      "No metric for cfg=7.0, but npz exists\n",
      "No metric for cfg=8.0, but npz exists\n",
      "No metric for cfg=9.0, but npz exists\n",
      "No metric for cfg=12.0, but npz exists\n"
     ]
    }
   ],
   "source": [
    "for cfg in [1.0, 1.25, 1.5, 2.0, 3.0, 4.0, 5.0, 6.0, 7.0, 8.0, 9.0, 12.0]:\n",
    "    folder_suffix = f\"cfg-{cfg}-seed-{seed}-step-{step}-nsmp-{nsmp}-{mode if mode!='ddpm' else ''}\"\n",
    "    metric_path = get_metric_path(samples_path, folder_suffix)\n",
    "    npz_path = get_npz_path(samples_path, folder_suffix)\n",
    "    if metric_path:\n",
    "        # metric = np.load(metric_path, allow_pickle=True).item()\n",
    "        # if not (f'eval-{nsmp}-{step}/inception' in metric):\n",
    "        #     print(f'No inception score for cfg={cfg} --> remove {metric_path}')\n",
    "        # else:\n",
    "        #     print(f'good. cfg={cfg}')\n",
    "        os.remove(metric_path)\n",
    "        print('removed', metric_path)\n",
    "    elif npz_path:\n",
    "        print(f'No metric for cfg={cfg}, but npz exists')\n",
    "    else:\n",
    "        print(f'No metric for cfg={cfg}, no npz exists')"
   ]
  },
  {
   "cell_type": "code",
   "execution_count": 5,
   "metadata": {},
   "outputs": [
    {
     "name": "stdout",
     "output_type": "stream",
     "text": [
      "bash /mnt/disks/nfs/ujinsong/jax-DiT/scripts/autolaunch_tpu_ujinsong_eval.sh rectflow-lognorm/t3lm-mlp-bd-fixed/pixels/ps2-DiT-S-mt3lm-mlp-bd-2024-Aug-24-00-08-40 rectflow 10000 50 0 256 1.0 32 320000\n",
      "\n",
      "bash /mnt/disks/nfs/ujinsong/jax-DiT/scripts/autolaunch_tpu_ujinsong_eval.sh rectflow-lognorm/t3lm-mlp-bd-fixed/pixels/ps2-DiT-S-mt3lm-mlp-bd-2024-Aug-24-00-08-40 rectflow 10000 50 0 256 1.25 32 320000\n",
      "\n",
      "bash /mnt/disks/nfs/ujinsong/jax-DiT/scripts/autolaunch_tpu_ujinsong_eval.sh rectflow-lognorm/t3lm-mlp-bd-fixed/pixels/ps2-DiT-S-mt3lm-mlp-bd-2024-Aug-24-00-08-40 rectflow 10000 50 0 256 2.0 32 320000\n",
      "\n",
      "bash /mnt/disks/nfs/ujinsong/jax-DiT/scripts/autolaunch_tpu_ujinsong_eval.sh rectflow-lognorm/t3lm-mlp-bd-fixed/pixels/ps2-DiT-S-mt3lm-mlp-bd-2024-Aug-24-00-08-40 rectflow 10000 50 0 256 3.0 32 320000\n",
      "\n",
      "bash /mnt/disks/nfs/ujinsong/jax-DiT/scripts/autolaunch_tpu_ujinsong_eval.sh rectflow-lognorm/t3lm-mlp-bd-fixed/pixels/ps2-DiT-S-mt3lm-mlp-bd-2024-Aug-24-00-08-40 rectflow 10000 50 0 256 4.0 32 320000\n",
      "\n",
      "bash /mnt/disks/nfs/ujinsong/jax-DiT/scripts/autolaunch_tpu_ujinsong_eval.sh rectflow-lognorm/t3lm-mlp-bd-fixed/pixels/ps2-DiT-S-mt3lm-mlp-bd-2024-Aug-24-00-08-40 rectflow 10000 50 0 256 5.0 32 320000\n",
      "\n",
      "bash /mnt/disks/nfs/ujinsong/jax-DiT/scripts/autolaunch_tpu_ujinsong_eval.sh rectflow-lognorm/t3lm-mlp-bd-fixed/pixels/ps2-DiT-S-mt3lm-mlp-bd-2024-Aug-24-00-08-40 rectflow 10000 50 0 256 6.0 32 320000\n",
      "\n",
      "bash /mnt/disks/nfs/ujinsong/jax-DiT/scripts/autolaunch_tpu_ujinsong_eval.sh rectflow-lognorm/t3lm-mlp-bd-fixed/pixels/ps2-DiT-S-mt3lm-mlp-bd-2024-Aug-24-00-08-40 rectflow 10000 50 0 256 7.0 32 320000\n",
      "\n",
      "bash /mnt/disks/nfs/ujinsong/jax-DiT/scripts/autolaunch_tpu_ujinsong_eval.sh rectflow-lognorm/t3lm-mlp-bd-fixed/pixels/ps2-DiT-S-mt3lm-mlp-bd-2024-Aug-24-00-08-40 rectflow 10000 50 0 256 8.0 32 320000\n",
      "\n",
      "bash /mnt/disks/nfs/ujinsong/jax-DiT/scripts/autolaunch_tpu_ujinsong_eval.sh rectflow-lognorm/t3lm-mlp-bd-fixed/pixels/ps2-DiT-S-mt3lm-mlp-bd-2024-Aug-24-00-08-40 rectflow 10000 50 0 256 9.0 32 320000\n",
      "\n",
      "bash /mnt/disks/nfs/ujinsong/jax-DiT/scripts/autolaunch_tpu_ujinsong_eval.sh rectflow-lognorm/t3lm-mlp-bd-fixed/pixels/ps2-DiT-S-mt3lm-mlp-bd-2024-Aug-24-00-08-40 rectflow 10000 50 0 256 12.0 32 320000\n",
      "\n"
     ]
    }
   ],
   "source": [
    "for cfg in [1.0, 1.25, 2.0, 3.0, 4.0, 5.0, 6.0, 7.0, 8.0, 9.0, 12.0]:\n",
    "    command = \"bash /mnt/disks/nfs/ujinsong/jax-DiT/scripts/autolaunch_tpu_ujinsong_eval.sh\"\n",
    "    command += f\" {expr_name}\"\n",
    "    command += f\" {mode}\"\n",
    "    command += f\" {nsmp}\"\n",
    "    command += f\" {step}\"\n",
    "    command += f\" {seed}\"\n",
    "    command += f\" 256\"\n",
    "    command += f\" {cfg}\"\n",
    "    command += f\" {32}\"\n",
    "    command += f\" {320000}\"\n",
    "    print(command)\n",
    "    print()"
   ]
  },
  {
   "cell_type": "code",
   "execution_count": 49,
   "metadata": {},
   "outputs": [],
   "source": [
    "cfgs = [1.0, 1.25, 1.5, 2.0, 3.0, 4.0, 5.0, 6.0, 7.0, 8.0, 9.0, 12.0]\n",
    "fids = dict()\n",
    "fscores = dict()\n",
    "inception_scores = dict()\n",
    "precisions = dict()\n",
    "recalls = dict()\n",
    "for cfg in cfgs:\n",
    "    folder_suffix = f\"cfg-{cfg}-seed-{seed}-step-{step}-nsmp-{nsmp}-{mode if mode!='ddpm' else ''}\"\n",
    "    metric_path = get_metric_path(samples_path, folder_suffix)\n",
    "    npz_path = get_npz_path(samples_path, folder_suffix)\n",
    "    if metric_path:\n",
    "        metric = np.load(metric_path, allow_pickle=True).item()\n",
    "        fids[cfg] = metric[f'eval-{nsmp}-{step}/fid']\n",
    "        inception_scores[cfg] = metric[f'eval-{nsmp}-{step}/inception']\n",
    "        precision = metric[f'eval-{nsmp}-{step}/precision']\n",
    "        precisions[cfg] = precision\n",
    "        recall = metric[f'eval-{nsmp}-{step}/recall']\n",
    "        recalls[cfg] = recall\n",
    "        fscores[cfg] = 2 * precision * recall / (precision + recall)"
   ]
  },
  {
   "cell_type": "code",
   "execution_count": 50,
   "metadata": {},
   "outputs": [
    {
     "data": {
      "image/png": "[encoded data removed]",
      "text/plain": [
       "<Figure size 1600x400 with 3 Axes>"
      ]
     },
     "metadata": {},
     "output_type": "display_data"
    }
   ],
   "source": [
    "fig, axes = plt.subplots(1,3, figsize=(16,4))\n",
    "for i, (name, data) in enumerate([(\"FID\", fids), (\"Inception Score\", inception_scores), (\"F-score\", fscores)]):\n",
    "    ax = axes[i]\n",
    "    ax.plot(data.keys(), data.values(), marker='o')\n",
    "    ax.set_xlabel('cfg')\n",
    "    ax.set_ylabel(name)\n",
    "    ax.set_title(name)\n",
    "    ax.grid()\n",
    "fig.suptitle(\"Pixel DiT-S\", fontsize=16)\n",
    "plt.show()"
   ]
  },
  {
   "cell_type": "code",
   "execution_count": 51,
   "metadata": {},
   "outputs": [
    {
     "data": {
      "text/html": [
       "<div>\n",
       "<style scoped>\n",
       "    .dataframe tbody tr th:only-of-type {\n",
       "        vertical-align: middle;\n",
       "    }\n",
       "\n",
       "    .dataframe tbody tr th {\n",
       "        vertical-align: top;\n",
       "    }\n",
       "\n",
       "    .dataframe thead th {\n",
       "        text-align: right;\n",
       "    }\n",
       "</style>\n",
       "<table border=\"1\" class=\"dataframe\">\n",
       "  <thead>\n",
       "    <tr style=\"text-align: right;\">\n",
       "      <th></th>\n",
       "      <th>cfg</th>\n",
       "      <th>FID</th>\n",
       "      <th>Inception Score</th>\n",
       "      <th>F-score</th>\n",
       "      <th>Precision</th>\n",
       "      <th>Recall</th>\n",
       "    </tr>\n",
       "  </thead>\n",
       "  <tbody>\n",
       "    <tr>\n",
       "      <th>0</th>\n",
       "      <td>1.00</td>\n",
       "      <td>76.995905</td>\n",
       "      <td>337.85376</td>\n",
       "      <td>0.344811</td>\n",
       "      <td>0.4269</td>\n",
       "      <td>0.2892</td>\n",
       "    </tr>\n",
       "    <tr>\n",
       "      <th>1</th>\n",
       "      <td>1.25</td>\n",
       "      <td>66.177936</td>\n",
       "      <td>337.85376</td>\n",
       "      <td>0.381323</td>\n",
       "      <td>0.4389</td>\n",
       "      <td>0.3371</td>\n",
       "    </tr>\n",
       "    <tr>\n",
       "      <th>2</th>\n",
       "      <td>1.50</td>\n",
       "      <td>57.449579</td>\n",
       "      <td>337.85376</td>\n",
       "      <td>0.424102</td>\n",
       "      <td>0.4561</td>\n",
       "      <td>0.3963</td>\n",
       "    </tr>\n",
       "    <tr>\n",
       "      <th>3</th>\n",
       "      <td>2.00</td>\n",
       "      <td>44.317812</td>\n",
       "      <td>337.85376</td>\n",
       "      <td>0.487318</td>\n",
       "      <td>0.4834</td>\n",
       "      <td>0.4913</td>\n",
       "    </tr>\n",
       "    <tr>\n",
       "      <th>4</th>\n",
       "      <td>3.00</td>\n",
       "      <td>31.486494</td>\n",
       "      <td>337.85376</td>\n",
       "      <td>0.536316</td>\n",
       "      <td>0.4652</td>\n",
       "      <td>0.6331</td>\n",
       "    </tr>\n",
       "    <tr>\n",
       "      <th>5</th>\n",
       "      <td>4.00</td>\n",
       "      <td>26.752588</td>\n",
       "      <td>337.85376</td>\n",
       "      <td>0.523013</td>\n",
       "      <td>0.4146</td>\n",
       "      <td>0.7082</td>\n",
       "    </tr>\n",
       "    <tr>\n",
       "      <th>6</th>\n",
       "      <td>5.00</td>\n",
       "      <td>25.055119</td>\n",
       "      <td>337.85376</td>\n",
       "      <td>0.490645</td>\n",
       "      <td>0.3650</td>\n",
       "      <td>0.7482</td>\n",
       "    </tr>\n",
       "    <tr>\n",
       "      <th>7</th>\n",
       "      <td>6.00</td>\n",
       "      <td>24.777300</td>\n",
       "      <td>337.85376</td>\n",
       "      <td>0.452174</td>\n",
       "      <td>0.3196</td>\n",
       "      <td>0.7727</td>\n",
       "    </tr>\n",
       "    <tr>\n",
       "      <th>8</th>\n",
       "      <td>7.00</td>\n",
       "      <td>24.706779</td>\n",
       "      <td>337.85376</td>\n",
       "      <td>0.434473</td>\n",
       "      <td>0.2995</td>\n",
       "      <td>0.7909</td>\n",
       "    </tr>\n",
       "    <tr>\n",
       "      <th>9</th>\n",
       "      <td>8.00</td>\n",
       "      <td>24.923431</td>\n",
       "      <td>337.85376</td>\n",
       "      <td>0.405624</td>\n",
       "      <td>0.2707</td>\n",
       "      <td>0.8087</td>\n",
       "    </tr>\n",
       "    <tr>\n",
       "      <th>10</th>\n",
       "      <td>9.00</td>\n",
       "      <td>25.090480</td>\n",
       "      <td>337.85376</td>\n",
       "      <td>0.381309</td>\n",
       "      <td>0.2488</td>\n",
       "      <td>0.8158</td>\n",
       "    </tr>\n",
       "    <tr>\n",
       "      <th>11</th>\n",
       "      <td>12.00</td>\n",
       "      <td>25.351912</td>\n",
       "      <td>337.85376</td>\n",
       "      <td>0.342151</td>\n",
       "      <td>0.2159</td>\n",
       "      <td>0.8240</td>\n",
       "    </tr>\n",
       "  </tbody>\n",
       "</table>\n",
       "</div>"
      ],
      "text/plain": [
       "      cfg        FID  Inception Score   F-score  Precision  Recall\n",
       "0    1.00  76.995905        337.85376  0.344811     0.4269  0.2892\n",
       "1    1.25  66.177936        337.85376  0.381323     0.4389  0.3371\n",
       "2    1.50  57.449579        337.85376  0.424102     0.4561  0.3963\n",
       "3    2.00  44.317812        337.85376  0.487318     0.4834  0.4913\n",
       "4    3.00  31.486494        337.85376  0.536316     0.4652  0.6331\n",
       "5    4.00  26.752588        337.85376  0.523013     0.4146  0.7082\n",
       "6    5.00  25.055119        337.85376  0.490645     0.3650  0.7482\n",
       "7    6.00  24.777300        337.85376  0.452174     0.3196  0.7727\n",
       "8    7.00  24.706779        337.85376  0.434473     0.2995  0.7909\n",
       "9    8.00  24.923431        337.85376  0.405624     0.2707  0.8087\n",
       "10   9.00  25.090480        337.85376  0.381309     0.2488  0.8158\n",
       "11  12.00  25.351912        337.85376  0.342151     0.2159  0.8240"
      ]
     },
     "execution_count": 51,
     "metadata": {},
     "output_type": "execute_result"
    }
   ],
   "source": [
    "pd.DataFrame({'cfg': list(fids.keys()),\n",
    "            'FID': list(fids.values()),\n",
    "            'Inception Score': list(inception_scores.values()),\n",
    "            'F-score': list(fscores.values()),\n",
    "            'Precision': list(precisions.values()),\n",
    "            'Recall': list(recalls.values())\n",
    "            })"
   ]
  },
  {
   "cell_type": "code",
   "execution_count": 44,
   "metadata": {},
   "outputs": [
    {
     "name": "stdout",
     "output_type": "stream",
     "text": [
      "bash /mnt/disks/nfs/ujinsong/jax-DiT/scripts/autolaunch_tpu_ujinsong_eval.sh $EXPR_NAME \"rectflow\" 10000 50 0 256 1.0 32 320000\n",
      "bash /mnt/disks/nfs/ujinsong/jax-DiT/scripts/autolaunch_tpu_ujinsong_eval.sh $EXPR_NAME \"rectflow\" 10000 50 0 256 1.25 32 320000\n",
      "bash /mnt/disks/nfs/ujinsong/jax-DiT/scripts/autolaunch_tpu_ujinsong_eval.sh $EXPR_NAME \"rectflow\" 10000 50 0 256 1.5 32 320000\n",
      "bash /mnt/disks/nfs/ujinsong/jax-DiT/scripts/autolaunch_tpu_ujinsong_eval.sh $EXPR_NAME \"rectflow\" 10000 50 0 256 2.0 32 320000\n",
      "bash /mnt/disks/nfs/ujinsong/jax-DiT/scripts/autolaunch_tpu_ujinsong_eval.sh $EXPR_NAME \"rectflow\" 10000 50 0 256 3.0 32 320000\n",
      "bash /mnt/disks/nfs/ujinsong/jax-DiT/scripts/autolaunch_tpu_ujinsong_eval.sh $EXPR_NAME \"rectflow\" 10000 50 0 256 4.0 32 320000\n",
      "bash /mnt/disks/nfs/ujinsong/jax-DiT/scripts/autolaunch_tpu_ujinsong_eval.sh $EXPR_NAME \"rectflow\" 10000 50 0 256 5.0 32 320000\n",
      "bash /mnt/disks/nfs/ujinsong/jax-DiT/scripts/autolaunch_tpu_ujinsong_eval.sh $EXPR_NAME \"rectflow\" 10000 50 0 256 6.0 32 320000\n",
      "bash /mnt/disks/nfs/ujinsong/jax-DiT/scripts/autolaunch_tpu_ujinsong_eval.sh $EXPR_NAME \"rectflow\" 10000 50 0 256 7.0 32 320000\n",
      "bash /mnt/disks/nfs/ujinsong/jax-DiT/scripts/autolaunch_tpu_ujinsong_eval.sh $EXPR_NAME \"rectflow\" 10000 50 0 256 8.0 32 320000\n",
      "bash /mnt/disks/nfs/ujinsong/jax-DiT/scripts/autolaunch_tpu_ujinsong_eval.sh $EXPR_NAME \"rectflow\" 10000 50 0 256 9.0 32 320000\n",
      "bash /mnt/disks/nfs/ujinsong/jax-DiT/scripts/autolaunch_tpu_ujinsong_eval.sh $EXPR_NAME \"rectflow\" 10000 50 0 256 12.0 32 320000\n"
     ]
    }
   ],
   "source": [
    "for cfg in cfgs:\n",
    "    print(f'bash /mnt/disks/nfs/ujinsong/jax-DiT/scripts/autolaunch_tpu_ujinsong_eval.sh $EXPR_NAME \"rectflow\" 10000 50 0 256 {cfg} 32 320000')"
   ]
  },
  {
   "cell_type": "markdown",
   "metadata": {},
   "source": [
    "# remove metrics in moe experiment / ttt-b,s,ti expepriment"
   ]
  },
  {
   "cell_type": "code",
   "execution_count": 16,
   "metadata": {},
   "outputs": [
    {
     "name": "stdout",
     "output_type": "stream",
     "text": [
      "['10000', '100000', '110000', '120000', '130000', '140000', '150000', '160000', '170000', '180000', '190000', '20000', '30000', '40000', '50000', '60000', '70000', '80000', '90000']\n"
     ]
    }
   ],
   "source": [
    "expr_name = \"ttt-mlp-bd/pixels/ps2-DiT-B-mt3lm-mlp-bd-2024-Aug-31-06-25-38\"\n",
    "expr_name = \"ttt-mlp-bd/pixels/ps2-DiT-S-mt3lm-mlp-bd-2024-Aug-31-06-31-44\"\n",
    "expr_name = \"ttt-mlp-bd/pixels/ps2-TTT-Ti-mt3lm-mlp-bd-2024-Aug-31-06-05-11\"\n",
    "checkpoint_path = get_checkpoint_path(expr_name)\n",
    "checkpoints = os.listdir(checkpoint_path)\n",
    "# print(checkpoints)\n",
    "\n",
    "cfg = 1.5\n",
    "seed = 0\n",
    "step = 50\n",
    "nsmp = 10000\n",
    "mode = 'rectflow'\n",
    "\n",
    "checkpoint_wo_metric = []\n",
    "checkpoint_w_metric = []\n",
    "for checkpoint in os.listdir(checkpoint_path):\n",
    "    sample_path = get_samples_path(expr_name, checkpoint)\n",
    "    if sample_path:\n",
    "        folder_suffix = f\"cfg-{cfg}-seed-{seed}-step-{step}-nsmp-{nsmp}-{mode if mode!='ddpm' else ''}\"\n",
    "        metric_path = get_metric_path(sample_path, folder_suffix)\n",
    "        if metric_path:\n",
    "            os.remove(metric_path)\n",
    "            print(\"removed\",metric_path)\n",
    "            checkpoint_w_metric.append(checkpoint)\n",
    "        else:\n",
    "            checkpoint_wo_metric.append(checkpoint)\n",
    "print(checkpoint_wo_metric)\n",
    "print(checkpoint_w_metric)"
   ]
  },
  {
   "cell_type": "code",
   "execution_count": 30,
   "metadata": {},
   "outputs": [
    {
     "name": "stdout",
     "output_type": "stream",
     "text": [
      "export EXPR_NAME=\"rectflow-lognorm-zloss/latent/ps1-DiT-S-SSM-MoE-2024-Aug-30-03-03-37\"\n",
      "bash /mnt/disks/nfs/ujinsong/jax-DiT/scripts/autolaunch_tpu_ujinsong_eval.sh $EXPR_NAME \"rectflow\" 10000 50 0 256 1.5 32 100000\n",
      "bash /mnt/disks/nfs/ujinsong/jax-DiT/scripts/autolaunch_tpu_ujinsong_eval.sh $EXPR_NAME \"rectflow\" 10000 50 0 256 1.5 32 150000\n",
      "bash /mnt/disks/nfs/ujinsong/jax-DiT/scripts/autolaunch_tpu_ujinsong_eval.sh $EXPR_NAME \"rectflow\" 10000 50 0 256 1.5 32 200000\n",
      "bash /mnt/disks/nfs/ujinsong/jax-DiT/scripts/autolaunch_tpu_ujinsong_eval.sh $EXPR_NAME \"rectflow\" 10000 50 0 256 1.5 32 250000\n",
      "bash /mnt/disks/nfs/ujinsong/jax-DiT/scripts/autolaunch_tpu_ujinsong_eval.sh $EXPR_NAME \"rectflow\" 10000 50 0 256 1.5 32 300000\n",
      "bash /mnt/disks/nfs/ujinsong/jax-DiT/scripts/autolaunch_tpu_ujinsong_eval.sh $EXPR_NAME \"rectflow\" 10000 50 0 256 1.5 32 350000\n",
      "bash /mnt/disks/nfs/ujinsong/jax-DiT/scripts/autolaunch_tpu_ujinsong_eval.sh $EXPR_NAME \"rectflow\" 10000 50 0 256 1.5 32 400000\n"
     ]
    }
   ],
   "source": [
    "print(f'export EXPR_NAME=\"{expr_name}\"')\n",
    "for ckpt in checkpoint_wo_metric:\n",
    "    print(f'bash /mnt/disks/nfs/ujinsong/jax-DiT/scripts/autolaunch_tpu_ujinsong_eval.sh $EXPR_NAME \"rectflow\" 10000 50 0 256 1.5 32 {ckpt}')"
   ]
  },
  {
   "cell_type": "code",
   "execution_count": 62,
   "metadata": {},
   "outputs": [
    {
     "name": "stdout",
     "output_type": "stream",
     "text": [
      "['100000', '125000', '150000', '175000', '200000', '225000', '25000', '250000', '275000', '300000', '325000', '350000', '375000', '399999', '50000', '75000']\n",
      "export EXPR_NAME=\"dit-mixprec/latent/ps1-DiT-S-2024-Sep-03-09-26-34\"\n"
     ]
    }
   ],
   "source": [
    "expr_name = 'dit-mixprec/latent/ps1-DiT-S-2024-Sep-03-09-26-34'\n",
    "checkpoint_path = get_checkpoint_path(expr_name)\n",
    "checkpoints = os.listdir(checkpoint_path)\n",
    "# print(checkpoints)\n",
    "\n",
    "cfg = 1.5\n",
    "seed = 0\n",
    "step = 50\n",
    "nsmp = 10000\n",
    "mode = 'rectflow'\n",
    "\n",
    "checkpoint_wo_metric = []\n",
    "for checkpoint in os.listdir(checkpoint_path):\n",
    "    sample_path = get_samples_path(expr_name, checkpoint)\n",
    "    if sample_path:\n",
    "        folder_suffix = f\"cfg-{cfg}-seed-{seed}-step-{step}-nsmp-{nsmp}-{mode if mode!='ddpm' else ''}\"\n",
    "        metric_path = get_metric_path(sample_path, folder_suffix)\n",
    "        if metric_path:\n",
    "            print(metric_path)\n",
    "        else:\n",
    "            checkpoint_wo_metric.append(checkpoint)\n",
    "print(checkpoint_wo_metric)"
   ]
  },
  {
   "cell_type": "code",
   "execution_count": 65,
   "metadata": {},
   "outputs": [
    {
     "name": "stdout",
     "output_type": "stream",
     "text": [
      "export EXPR_NAME=\"dit-mixprec/latent/ps1-DiT-S-2024-Sep-03-09-26-34\"\n",
      "bash /mnt/disks/nfs/ujinsong/jax-DiT/scripts/autolaunch_tpu_ujinsong_eval.sh $EXPR_NAME \"rectflow\" 10000 50 0 256 1.5 32 399999\n",
      "bash /mnt/disks/nfs/ujinsong/jax-DiT/scripts/autolaunch_tpu_ujinsong_eval.sh $EXPR_NAME \"rectflow\" 10000 50 0 256 1.5 32 350000\n",
      "bash /mnt/disks/nfs/ujinsong/jax-DiT/scripts/autolaunch_tpu_ujinsong_eval.sh $EXPR_NAME \"rectflow\" 10000 50 0 256 1.5 32 300000\n",
      "bash /mnt/disks/nfs/ujinsong/jax-DiT/scripts/autolaunch_tpu_ujinsong_eval.sh $EXPR_NAME \"rectflow\" 10000 50 0 256 1.5 32 250000\n",
      "bash /mnt/disks/nfs/ujinsong/jax-DiT/scripts/autolaunch_tpu_ujinsong_eval.sh $EXPR_NAME \"rectflow\" 10000 50 0 256 1.5 32 200000\n",
      "bash /mnt/disks/nfs/ujinsong/jax-DiT/scripts/autolaunch_tpu_ujinsong_eval.sh $EXPR_NAME \"rectflow\" 10000 50 0 256 1.5 32 150000\n",
      "bash /mnt/disks/nfs/ujinsong/jax-DiT/scripts/autolaunch_tpu_ujinsong_eval.sh $EXPR_NAME \"rectflow\" 10000 50 0 256 1.5 32 100000\n",
      "bash /mnt/disks/nfs/ujinsong/jax-DiT/scripts/autolaunch_tpu_ujinsong_eval.sh $EXPR_NAME \"rectflow\" 10000 50 0 256 1.5 32 50000\n",
      "export EXPR_NAME=\"dit-mixprec/latent/ps1-DiT-S-2024-Sep-03-09-26-34\"\n",
      "bash /mnt/disks/nfs/ujinsong/jax-DiT/scripts/autolaunch_tpu_ujinsong_eval.sh $EXPR_NAME \"rectflow\" 10000 50 0 256 1.5 32 375000\n",
      "bash /mnt/disks/nfs/ujinsong/jax-DiT/scripts/autolaunch_tpu_ujinsong_eval.sh $EXPR_NAME \"rectflow\" 10000 50 0 256 1.5 32 325000\n",
      "bash /mnt/disks/nfs/ujinsong/jax-DiT/scripts/autolaunch_tpu_ujinsong_eval.sh $EXPR_NAME \"rectflow\" 10000 50 0 256 1.5 32 275000\n",
      "bash /mnt/disks/nfs/ujinsong/jax-DiT/scripts/autolaunch_tpu_ujinsong_eval.sh $EXPR_NAME \"rectflow\" 10000 50 0 256 1.5 32 225000\n",
      "bash /mnt/disks/nfs/ujinsong/jax-DiT/scripts/autolaunch_tpu_ujinsong_eval.sh $EXPR_NAME \"rectflow\" 10000 50 0 256 1.5 32 175000\n",
      "bash /mnt/disks/nfs/ujinsong/jax-DiT/scripts/autolaunch_tpu_ujinsong_eval.sh $EXPR_NAME \"rectflow\" 10000 50 0 256 1.5 32 125000\n",
      "bash /mnt/disks/nfs/ujinsong/jax-DiT/scripts/autolaunch_tpu_ujinsong_eval.sh $EXPR_NAME \"rectflow\" 10000 50 0 256 1.5 32 75000\n",
      "bash /mnt/disks/nfs/ujinsong/jax-DiT/scripts/autolaunch_tpu_ujinsong_eval.sh $EXPR_NAME \"rectflow\" 10000 50 0 256 1.5 32 25000\n"
     ]
    }
   ],
   "source": [
    "checkpoint_wo_metric = sorted(checkpoint_wo_metric, key=lambda x: int(x), reverse=True)\n",
    "\n",
    "print(f'export EXPR_NAME=\"{expr_name}\"')\n",
    "for ckpt in checkpoint_wo_metric[::2]:\n",
    "    print(f'bash /mnt/disks/nfs/ujinsong/jax-DiT/scripts/autolaunch_tpu_ujinsong_eval.sh $EXPR_NAME \"rectflow\" 10000 50 0 256 1.5 32 {ckpt}')\n",
    "print(f'export EXPR_NAME=\"{expr_name}\"')\n",
    "for ckpt in checkpoint_wo_metric[1::2]:\n",
    "    print(f'bash /mnt/disks/nfs/ujinsong/jax-DiT/scripts/autolaunch_tpu_ujinsong_eval.sh $EXPR_NAME \"rectflow\" 10000 50 0 256 1.5 32 {ckpt}')\n"
   ]
  },
  {
   "cell_type": "markdown",
   "metadata": {},
   "source": [
    "# correct train_step"
   ]
  },
  {
   "cell_type": "code",
   "execution_count": 6,
   "metadata": {},
   "outputs": [
    {
     "name": "stdout",
     "output_type": "stream",
     "text": [
      "{'eval-10000-50/eval_steps': 250000, 'eval-10000-50/train_flops_TFlops': 36394888.0, 'eval-10000-50/precision': 0.2347, 'eval-10000-50/recall': 0.2633, 'eval-10000-50/fid': 101.02160164096239, 'eval-10000-50/sfid': 37.45022243870778, 'eval-10000-50/inception': 337.853759765625, 'sampling_time': 0}\n",
      "{'eval-10000-50/eval_steps': 280000, 'eval-10000-50/train_flops_TFlops': 40762272.0, 'eval-10000-50/precision': 0.2383, 'eval-10000-50/recall': 0.272, 'eval-10000-50/fid': 98.71928488833163, 'eval-10000-50/sfid': 36.46460272896627, 'eval-10000-50/inception': 337.853759765625, 'sampling_time': 0}\n",
      "{'eval-10000-50/eval_steps': 310000, 'eval-10000-50/train_flops_TFlops': 45129660.0, 'eval-10000-50/precision': 0.2506, 'eval-10000-50/recall': 0.2821, 'eval-10000-50/fid': 95.3261349953259, 'eval-10000-50/sfid': 35.56785583206363, 'eval-10000-50/inception': 337.853759765625, 'sampling_time': 0}\n",
      "{'eval-10000-50/eval_steps': 340000, 'eval-10000-50/train_flops_TFlops': 49497044.0, 'eval-10000-50/precision': 0.2703, 'eval-10000-50/recall': 0.2983, 'eval-10000-50/fid': 91.9423718644266, 'eval-10000-50/sfid': 34.52161116771697, 'eval-10000-50/inception': 337.853759765625, 'sampling_time': 0}\n",
      "{'eval-10000-50/eval_steps': 370000, 'eval-10000-50/train_flops_TFlops': 53864432.0, 'eval-10000-50/precision': 0.2799, 'eval-10000-50/recall': 0.3008, 'eval-10000-50/fid': 89.1922702772822, 'eval-10000-50/sfid': 34.26686610512013, 'eval-10000-50/inception': 337.853759765625, 'sampling_time': 0}\n",
      "{'eval-10000-50/eval_steps': 399999, 'eval-10000-50/train_flops_TFlops': 58231780.0, 'eval-10000-50/precision': 0.2961, 'eval-10000-50/recall': 0.3235, 'eval-10000-50/fid': 86.8031859895226, 'eval-10000-50/sfid': 33.33009931468746, 'eval-10000-50/inception': 337.853759765625, 'sampling_time': 0}\n"
     ]
    }
   ],
   "source": [
    "expr_name = 'rectflow-lognorm/pixel/ps2-dstate256-DiT-Ti-SSM-2024-Aug-22-22-18-21'\n",
    "sample_path = f'/mnt/disks/gs2/outputs/checkpoints/{expr_name}/samples'\n",
    "\n",
    "cfg = 1.5\n",
    "seed = 0\n",
    "step = 50\n",
    "nsmp = 10000\n",
    "mode = 'rectflow'\n",
    "\n",
    "sampled_ckpts = os.listdir(sample_path)\n",
    "for ckpt in sampled_ckpts:\n",
    "    if int(ckpt) not in [1599999, 1000000, 1120000, 1240000, 1360000, 1480000]:\n",
    "        continue\n",
    "    folder_suffix = f\"cfg-{cfg}-seed-{seed}-step-{step}-nsmp-{nsmp}-{mode if mode!='ddpm' else ''}\"\n",
    "    metric_path = get_metric_path(os.path.join(sample_path, ckpt), folder_suffix)\n",
    "    if os.path.isfile(metric_path):\n",
    "        metric = np.load(metric_path, allow_pickle=True).item()\n",
    "        # print(metric)\n",
    "        metric['eval-10000-50/eval_steps'] = int(metric['eval-10000-50/eval_steps']/4)\n",
    "        metric['eval-10000-50/train_flops_TFlops']/=4\n",
    "        np.save(metric_path, metric)\n",
    "        print(metric)\n",
    "        print()\n",
    "    else:\n",
    "        print(f'No metric for {ckpt}')"
   ]
  }
 ],
 "metadata": {
  "kernelspec": {
   "display_name": "Python 3",
   "language": "python",
   "name": "python3"
  },
  "language_info": {
   "codemirror_mode": {
    "name": "ipython",
    "version": 3
   },
   "file_extension": ".py",
   "mimetype": "text/x-python",
   "name": "python",
   "nbconvert_exporter": "python",
   "pygments_lexer": "ipython3",
   "version": "3.8.10"
  }
 },
 "nbformat": 4,
 "nbformat_minor": 2
}
